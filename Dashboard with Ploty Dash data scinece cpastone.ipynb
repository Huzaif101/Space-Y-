{
 "cells": [
  {
   "cell_type": "code",
   "execution_count": 1,
   "id": "62496363",
   "metadata": {},
   "outputs": [],
   "source": [
    "import requests\n",
    "import pandas as pd\n",
    "import dash\n",
    "from dash import dcc, html\n",
    "from dash.dependencies import Input, Output\n",
    "import plotly.express as px\n"
   ]
  },
  {
   "cell_type": "markdown",
   "id": "cd233982",
   "metadata": {},
   "source": [
    "# Step 1: Download the Dataset and Skeleton App using Python"
   ]
  },
  {
   "cell_type": "code",
   "execution_count": 2,
   "id": "20a2530c",
   "metadata": {},
   "outputs": [],
   "source": [
    "dataset_url = \"https://cf-courses-data.s3.us.cloud-object-storage.appdomain.cloud/IBM-DS0321EN-SkillsNetwork/datasets/spacex_launch_dash.csv\"\n",
    "app_url = \"https://cf-courses-data.s3.us.cloud-object-storage.appdomain.cloud/IBM-DS0321EN-SkillsNetwork/labs/module_3/spacex_dash_app.py\"\n"
   ]
  },
  {
   "cell_type": "code",
   "execution_count": 3,
   "id": "8961cdf8",
   "metadata": {},
   "outputs": [
    {
     "data": {
      "text/html": [
       "\n",
       "        <iframe\n",
       "            width=\"100%\"\n",
       "            height=\"650\"\n",
       "            src=\"http://127.0.0.1:8050/\"\n",
       "            frameborder=\"0\"\n",
       "            allowfullscreen\n",
       "            \n",
       "        ></iframe>\n",
       "        "
      ],
      "text/plain": [
       "<IPython.lib.display.IFrame at 0x1ae590ab490>"
      ]
     },
     "metadata": {},
     "output_type": "display_data"
    }
   ],
   "source": [
    "import pandas as pd\n",
    "import dash\n",
    "from dash import dcc, html\n",
    "from dash.dependencies import Input, Output\n",
    "import plotly.express as px\n",
    "\n",
    "# Load the dataset\n",
    "spacex_df = pd.read_csv(\"spacex_launch_dash.csv\")\n",
    "min_payload = spacex_df['Payload Mass (kg)'].min()\n",
    "max_payload = spacex_df['Payload Mass (kg)'].max()\n",
    "\n",
    "# Initialize the Dash app\n",
    "app = dash.Dash(__name__)\n",
    "\n",
    "app.layout = html.Div(children=[\n",
    "    html.H1('SpaceX Launch Records Dashboard', \n",
    "            style={'textAlign': 'center', 'color': '#503D36', \n",
    "                   'font-size': 40}),\n",
    "    dcc.Dropdown(\n",
    "        id='site-dropdown',\n",
    "        options=[\n",
    "            {'label': 'All Sites', 'value': 'ALL'},\n",
    "            {'label': 'CCAFS LC-40', 'value': 'CCAFS LC-40'},\n",
    "            {'label': 'VAFB SLC-4E', 'value': 'VAFB SLC-4E'},\n",
    "            {'label': 'KSC LC-39A', 'value': 'KSC LC-39A'},\n",
    "            {'label': 'CCAFS SLC-40', 'value': 'CCAFS SLC-40'}\n",
    "        ],\n",
    "        value='ALL',\n",
    "        placeholder=\"Select a Launch Site here\",\n",
    "        searchable=True\n",
    "    ),\n",
    "    html.Br(),\n",
    "    html.Div(dcc.Graph(id='success-pie-chart')),\n",
    "    html.Br(),\n",
    "    html.P(\"Payload range (Kg):\"),\n",
    "    dcc.RangeSlider(\n",
    "        id='payload-slider',\n",
    "        min=0, max=10000, step=1000,\n",
    "        marks={i: '{}'.format(i) for i in range(0, 10001, 1000)},\n",
    "        value=[min_payload, max_payload]\n",
    "    ),\n",
    "    html.Div(dcc.Graph(id='success-payload-scatter-chart')),\n",
    "])\n",
    "\n",
    "@app.callback(\n",
    "    [Output(component_id='success-pie-chart', component_property='figure'),\n",
    "     Output(component_id='success-payload-scatter-chart', component_property='figure')],\n",
    "    [Input(component_id='site-dropdown', component_property='value'),\n",
    "     Input(component_id='payload-slider', component_property='value')]\n",
    ")\n",
    "def update_charts(selected_site, payload_range):\n",
    "    # Filter data based on payload range\n",
    "    low, high = payload_range\n",
    "    filtered_df = spacex_df[(spacex_df['Payload Mass (kg)'] >= low) & \n",
    "                            (spacex_df['Payload Mass (kg)'] <= high)]\n",
    "    \n",
    "    # Update pie chart\n",
    "    if selected_site == 'ALL':\n",
    "        pie_fig = px.pie(spacex_df, values='class', \n",
    "                         names='Launch Site', \n",
    "                         title='Total Success Launches by Site')\n",
    "    else:\n",
    "        site_df = spacex_df[spacex_df['Launch Site'] == selected_site]\n",
    "        pie_fig = px.pie(site_df, names='class', \n",
    "                         title=f'Total Success Launches for site {selected_site}')\n",
    "    \n",
    "    # Update scatter plot\n",
    "    if selected_site == 'ALL':\n",
    "        scatter_fig = px.scatter(filtered_df, x='Payload Mass (kg)', y='class',\n",
    "                                 color='Booster Version Category',\n",
    "                                 title='Correlation between Payload and Success for all Sites')\n",
    "    else:\n",
    "        site_df = filtered_df[filtered_df['Launch Site'] == selected_site]\n",
    "        scatter_fig = px.scatter(site_df, x='Payload Mass (kg)', y='class',\n",
    "                                 color='Booster Version Category',\n",
    "                                 title=f'Correlation between Payload and Success for site {selected_site}')\n",
    "    \n",
    "    return pie_fig, scatter_fig\n",
    "\n",
    "if __name__ == '__main__':\n",
    "    app.run_server(debug=True)\n"
   ]
  },
  {
   "cell_type": "code",
   "execution_count": null,
   "id": "65db6dd5",
   "metadata": {},
   "outputs": [],
   "source": []
  },
  {
   "cell_type": "code",
   "execution_count": null,
   "id": "a6883d4a",
   "metadata": {},
   "outputs": [],
   "source": []
  },
  {
   "cell_type": "code",
   "execution_count": null,
   "id": "0e979a7f",
   "metadata": {},
   "outputs": [],
   "source": []
  }
 ],
 "metadata": {
  "kernelspec": {
   "display_name": "Python 3 (ipykernel)",
   "language": "python",
   "name": "python3"
  },
  "language_info": {
   "codemirror_mode": {
    "name": "ipython",
    "version": 3
   },
   "file_extension": ".py",
   "mimetype": "text/x-python",
   "name": "python",
   "nbconvert_exporter": "python",
   "pygments_lexer": "ipython3",
   "version": "3.11.5"
  }
 },
 "nbformat": 4,
 "nbformat_minor": 5
}
