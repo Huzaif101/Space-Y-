{
 "cells": [
  {
   "cell_type": "markdown",
   "id": "d2cb3a16",
   "metadata": {},
   "source": [
    "## Import Libraries "
   ]
  },
  {
   "cell_type": "code",
   "execution_count": 1,
   "id": "2bf258ad",
   "metadata": {},
   "outputs": [],
   "source": [
    "import pandas as pd\n",
    "import numpy as np\n",
    "import matplotlib.pyplot as plt\n",
    "import seaborn as sns\n",
    "from sklearn import preprocessing\n",
    "from sklearn.model_selection import train_test_split, GridSearchCV\n",
    "from sklearn.linear_model import LogisticRegression\n",
    "from sklearn.svm import SVC\n",
    "from sklearn.tree import DecisionTreeClassifier\n",
    "from sklearn.neighbors import KNeighborsClassifier\n"
   ]
  },
  {
   "cell_type": "markdown",
   "id": "cdf1026b",
   "metadata": {},
   "source": [
    "### Plotting function for confusion matrix"
   ]
  },
  {
   "cell_type": "code",
   "execution_count": 2,
   "id": "e08941e7",
   "metadata": {},
   "outputs": [],
   "source": [
    "def plot_confusion_matrix(y,y_predict):\n",
    "    from sklearn.metrics import confusion_matrix\n",
    "    cm=confusion_matrix(y,y_predict)\n",
    "    ax=plt.subplot()\n",
    "    sns.heatmap(cm,annot=True,ax=ax)\n",
    "    ax.set_xlabel('Predicted labels')\n",
    "    ax.set_ylabel('True labels')\n",
    "    ax.set_title('Confusion Matrix')\n",
    "    ax.xaxis.set_ticklabels(['did not land','land'])\n",
    "    ax.yaxis.set_ticklabels(['did not land','land'])\n",
    "    plt.show()\n",
    "    "
   ]
  },
  {
   "cell_type": "markdown",
   "id": "33582ccf",
   "metadata": {},
   "source": [
    "## Load the data"
   ]
  },
  {
   "cell_type": "code",
   "execution_count": 4,
   "id": "88d867f5",
   "metadata": {},
   "outputs": [],
   "source": [
    "data_url1 = \"https://cf-courses-data.s3.us.cloud-object-storage.appdomain.cloud/IBM-DS0321EN-SkillsNetwork/datasets/dataset_part_2.csv\"\n",
    "data_url2 = \"https://cf-courses-data.s3.us.cloud-object-storage.appdomain.cloud/IBM-DS0321EN-SkillsNetwork/datasets/dataset_part_3.csv\""
   ]
  },
  {
   "cell_type": "code",
   "execution_count": 5,
   "id": "e64fb011",
   "metadata": {},
   "outputs": [],
   "source": [
    "data=pd.read_csv(data_url1)\n",
    "X=pd.read_csv(data_url2)\n"
   ]
  },
  {
   "cell_type": "code",
   "execution_count": 6,
   "id": "971a4723",
   "metadata": {},
   "outputs": [
    {
     "name": "stdout",
     "output_type": "stream",
     "text": [
      "   FlightNumber        Date BoosterVersion  PayloadMass Orbit    LaunchSite  \\\n",
      "0             1  2010-06-04       Falcon 9  6104.959412   LEO  CCAFS SLC 40   \n",
      "1             2  2012-05-22       Falcon 9   525.000000   LEO  CCAFS SLC 40   \n",
      "2             3  2013-03-01       Falcon 9   677.000000   ISS  CCAFS SLC 40   \n",
      "3             4  2013-09-29       Falcon 9   500.000000    PO   VAFB SLC 4E   \n",
      "4             5  2013-12-03       Falcon 9  3170.000000   GTO  CCAFS SLC 40   \n",
      "\n",
      "       Outcome  Flights  GridFins  Reused   Legs LandingPad  Block  \\\n",
      "0    None None        1     False   False  False        NaN    1.0   \n",
      "1    None None        1     False   False  False        NaN    1.0   \n",
      "2    None None        1     False   False  False        NaN    1.0   \n",
      "3  False Ocean        1     False   False  False        NaN    1.0   \n",
      "4    None None        1     False   False  False        NaN    1.0   \n",
      "\n",
      "   ReusedCount Serial   Longitude   Latitude  Class  \n",
      "0            0  B0003  -80.577366  28.561857      0  \n",
      "1            0  B0005  -80.577366  28.561857      0  \n",
      "2            0  B0007  -80.577366  28.561857      0  \n",
      "3            0  B1003 -120.610829  34.632093      0  \n",
      "4            0  B1004  -80.577366  28.561857      0  \n",
      "    FlightNumber   PayloadMass  Flights  Block  ReusedCount  Orbit_ES-L1  \\\n",
      "0            1.0   6104.959412      1.0    1.0          0.0          0.0   \n",
      "1            2.0    525.000000      1.0    1.0          0.0          0.0   \n",
      "2            3.0    677.000000      1.0    1.0          0.0          0.0   \n",
      "3            4.0    500.000000      1.0    1.0          0.0          0.0   \n",
      "4            5.0   3170.000000      1.0    1.0          0.0          0.0   \n",
      "..           ...           ...      ...    ...          ...          ...   \n",
      "85          86.0  15400.000000      2.0    5.0          2.0          0.0   \n",
      "86          87.0  15400.000000      3.0    5.0          2.0          0.0   \n",
      "87          88.0  15400.000000      6.0    5.0          5.0          0.0   \n",
      "88          89.0  15400.000000      3.0    5.0          2.0          0.0   \n",
      "89          90.0   3681.000000      1.0    5.0          0.0          0.0   \n",
      "\n",
      "    Orbit_GEO  Orbit_GTO  Orbit_HEO  Orbit_ISS  ...  Serial_B1058  \\\n",
      "0         0.0        0.0        0.0        0.0  ...           0.0   \n",
      "1         0.0        0.0        0.0        0.0  ...           0.0   \n",
      "2         0.0        0.0        0.0        1.0  ...           0.0   \n",
      "3         0.0        0.0        0.0        0.0  ...           0.0   \n",
      "4         0.0        1.0        0.0        0.0  ...           0.0   \n",
      "..        ...        ...        ...        ...  ...           ...   \n",
      "85        0.0        0.0        0.0        0.0  ...           0.0   \n",
      "86        0.0        0.0        0.0        0.0  ...           1.0   \n",
      "87        0.0        0.0        0.0        0.0  ...           0.0   \n",
      "88        0.0        0.0        0.0        0.0  ...           0.0   \n",
      "89        0.0        0.0        0.0        0.0  ...           0.0   \n",
      "\n",
      "    Serial_B1059  Serial_B1060  Serial_B1062  GridFins_False  GridFins_True  \\\n",
      "0            0.0           0.0           0.0             1.0            0.0   \n",
      "1            0.0           0.0           0.0             1.0            0.0   \n",
      "2            0.0           0.0           0.0             1.0            0.0   \n",
      "3            0.0           0.0           0.0             1.0            0.0   \n",
      "4            0.0           0.0           0.0             1.0            0.0   \n",
      "..           ...           ...           ...             ...            ...   \n",
      "85           0.0           1.0           0.0             0.0            1.0   \n",
      "86           0.0           0.0           0.0             0.0            1.0   \n",
      "87           0.0           0.0           0.0             0.0            1.0   \n",
      "88           0.0           1.0           0.0             0.0            1.0   \n",
      "89           0.0           0.0           1.0             0.0            1.0   \n",
      "\n",
      "    Reused_False  Reused_True  Legs_False  Legs_True  \n",
      "0            1.0          0.0         1.0        0.0  \n",
      "1            1.0          0.0         1.0        0.0  \n",
      "2            1.0          0.0         1.0        0.0  \n",
      "3            1.0          0.0         1.0        0.0  \n",
      "4            1.0          0.0         1.0        0.0  \n",
      "..           ...          ...         ...        ...  \n",
      "85           0.0          1.0         0.0        1.0  \n",
      "86           0.0          1.0         0.0        1.0  \n",
      "87           0.0          1.0         0.0        1.0  \n",
      "88           0.0          1.0         0.0        1.0  \n",
      "89           1.0          0.0         0.0        1.0  \n",
      "\n",
      "[90 rows x 83 columns]\n"
     ]
    }
   ],
   "source": [
    "print(data.head())\n",
    "print(X.head(100))\n"
   ]
  },
  {
   "cell_type": "code",
   "execution_count": null,
   "id": "40dd8018",
   "metadata": {},
   "outputs": [],
   "source": []
  },
  {
   "cell_type": "markdown",
   "id": "2d85a6b3",
   "metadata": {},
   "source": [
    "## Task 1: Create a NumPy Array from the 'Class' Column"
   ]
  },
  {
   "cell_type": "code",
   "execution_count": 7,
   "id": "9c18bb3e",
   "metadata": {},
   "outputs": [],
   "source": [
    "Y=data['Class'].to_numpy()"
   ]
  },
  {
   "cell_type": "code",
   "execution_count": null,
   "id": "df416b67",
   "metadata": {},
   "outputs": [],
   "source": []
  },
  {
   "cell_type": "markdown",
   "id": "551834b2",
   "metadata": {},
   "source": [
    "## Task 2: Standardize the Data"
   ]
  },
  {
   "cell_type": "code",
   "execution_count": 8,
   "id": "f0853de2",
   "metadata": {},
   "outputs": [],
   "source": [
    "transform=preprocessing.StandardScaler()\n",
    "X=transform.fit_transform(X)"
   ]
  },
  {
   "cell_type": "code",
   "execution_count": null,
   "id": "14518c63",
   "metadata": {},
   "outputs": [],
   "source": []
  },
  {
   "cell_type": "markdown",
   "id": "dde17443",
   "metadata": {},
   "source": [
    "## Task 3: Split the Data into Training and Test Sets"
   ]
  },
  {
   "cell_type": "code",
   "execution_count": null,
   "id": "1fecb8a6",
   "metadata": {},
   "outputs": [],
   "source": []
  },
  {
   "cell_type": "code",
   "execution_count": 9,
   "id": "385b19e3",
   "metadata": {},
   "outputs": [
    {
     "name": "stdout",
     "output_type": "stream",
     "text": [
      "(18,)\n"
     ]
    }
   ],
   "source": [
    "X_train ,X_test , Y_train, Y_test = train_test_split(X,Y,test_size=0.2,random_state=2)\n",
    "print(Y_test.shape)"
   ]
  },
  {
   "cell_type": "markdown",
   "id": "04520b17",
   "metadata": {},
   "source": [
    "## Task 4: Logistic Regression with GridSearchCV"
   ]
  },
  {
   "cell_type": "code",
   "execution_count": 10,
   "id": "b49b9be9",
   "metadata": {},
   "outputs": [
    {
     "name": "stdout",
     "output_type": "stream",
     "text": [
      "Tuned hyperparameters (best parameters):  {'C': 0.01, 'penalty': 'l2', 'solver': 'lbfgs'}\n",
      "Accuracy:  0.8464285714285713\n"
     ]
    }
   ],
   "source": [
    "parameters = {'C': [0.01, 0.1, 1], 'penalty': ['l2'], 'solver': ['lbfgs']}\n",
    "lr = LogisticRegression()\n",
    "logreg_cv = GridSearchCV(lr, parameters, cv=10)\n",
    "logreg_cv.fit(X_train, Y_train)\n",
    "\n",
    "print(\"Tuned hyperparameters (best parameters): \", logreg_cv.best_params_)\n",
    "print(\"Accuracy: \", logreg_cv.best_score_)\n"
   ]
  },
  {
   "cell_type": "markdown",
   "id": "012c9e1c",
   "metadata": {},
   "source": [
    "## Task 5: Evaluate Logistic Regression on Test Data"
   ]
  },
  {
   "cell_type": "code",
   "execution_count": 11,
   "id": "520e687f",
   "metadata": {},
   "outputs": [
    {
     "name": "stdout",
     "output_type": "stream",
     "text": [
      "Test accuracy: 0.8333333333333334\n"
     ]
    },
    {
     "data": {
      "image/png": "[encoded data removed]",
      "text/plain": [
       "<Figure size 640x480 with 2 Axes>"
      ]
     },
     "metadata": {},
     "output_type": "display_data"
    }
   ],
   "source": [
    "yhat = logreg_cv.predict(X_test)\n",
    "print('Test accuracy:',logreg_cv.score(X_test,Y_test))\n",
    "plot_confusion_matrix(Y_test,yhat)"
   ]
  },
  {
   "cell_type": "markdown",
   "id": "fae59bde",
   "metadata": {},
   "source": [
    "## Task 5: Evaluate Logistic Regression on Test Data"
   ]
  },
  {
   "cell_type": "code",
   "execution_count": 13,
   "id": "a041fe3c",
   "metadata": {},
   "outputs": [
    {
     "name": "stdout",
     "output_type": "stream",
     "text": [
      "Test accuracy 0.8333333333333334\n"
     ]
    },
    {
     "data": {
      "image/png": "[encoded data removed]",
      "text/plain": [
       "<Figure size 640x480 with 2 Axes>"
      ]
     },
     "metadata": {},
     "output_type": "display_data"
    }
   ],
   "source": [
    "yhat= logreg_cv.predict(X_test)\n",
    "print(\"Test accuracy\",logreg_cv.score(X_test,Y_test))\n",
    "plot_confusion_matrix(Y_test,yhat)"
   ]
  },
  {
   "cell_type": "markdown",
   "id": "22f1c3c9",
   "metadata": {},
   "source": [
    "## Task 6: Support Vector Machine with GridSearchCV"
   ]
  },
  {
   "cell_type": "code",
   "execution_count": null,
   "id": "08e40c3b",
   "metadata": {},
   "outputs": [],
   "source": []
  },
  {
   "cell_type": "code",
   "execution_count": 20,
   "id": "9f1aa671",
   "metadata": {},
   "outputs": [
    {
     "name": "stdout",
     "output_type": "stream",
     "text": [
      "Tuned hyperparameters (best parameters): {'C': 1.0, 'gamma': 0.03162277660168379, 'kernel': 'sigmoid'}\n",
      "Accuracy: 0.8482142857142856\n"
     ]
    }
   ],
   "source": [
    "parameters = {'kernel':('linear','rbf','poly','sigmoid'),\n",
    "            'C':np.logspace(-3,3,5),\n",
    "            'gamma':np.logspace(-3,3,5)}\n",
    "\n",
    "svm=SVC()\n",
    "svm_cv=GridSearchCV(svm,parameters,cv=10)\n",
    "svm_cv.fit(X_train,Y_train)\n",
    "\n",
    "print(\"Tuned hyperparameters (best parameters):\",svm_cv.best_params_)\n",
    "print(\"Accuracy:\",svm_cv.best_score_)"
   ]
  },
  {
   "cell_type": "markdown",
   "id": "0a6f7f88",
   "metadata": {},
   "source": [
    "## Task 7: Evaluate SVM on Test Data"
   ]
  },
  {
   "cell_type": "code",
   "execution_count": 22,
   "id": "814bbef9",
   "metadata": {},
   "outputs": [
    {
     "name": "stdout",
     "output_type": "stream",
     "text": [
      "Test accuracy: 0.8333333333333334\n"
     ]
    },
    {
     "data": {
      "image/png": "[encoded data removed]",
      "text/plain": [
       "<Figure size 640x480 with 2 Axes>"
      ]
     },
     "metadata": {},
     "output_type": "display_data"
    }
   ],
   "source": [
    "yhat= svm_cv.predict(X_test)\n",
    "print(\"Test accuracy:\",svm_cv.score(X_test,Y_test))\n",
    "plot_confusion_matrix(Y_test,yhat)"
   ]
  },
  {
   "cell_type": "markdown",
   "id": "c9c698bc",
   "metadata": {},
   "source": [
    "## Task 8: Decision Tree Classifier with GridSearchCV"
   ]
  },
  {
   "cell_type": "code",
   "execution_count": 29,
   "id": "1633bd5d",
   "metadata": {},
   "outputs": [
    {
     "name": "stdout",
     "output_type": "stream",
     "text": [
      "Tuned hyperparameter (best parameters): {'criterion': 'entropy', 'max_depth': 2, 'max_features': 'sqrt', 'min_samples_leaf': 2, 'min_samples_split': 5, 'splitter': 'random'}\n",
      "Accuracy: 0.8892857142857142\n"
     ]
    },
    {
     "name": "stderr",
     "output_type": "stream",
     "text": [
      "D:\\anaconda\\Lib\\site-packages\\sklearn\\model_selection\\_validation.py:547: FitFailedWarning: \n",
      "3240 fits failed out of a total of 6480.\n",
      "The score on these train-test partitions for these parameters will be set to nan.\n",
      "If these failures are not expected, you can try to debug them by setting error_score='raise'.\n",
      "\n",
      "Below are more details about the failures:\n",
      "--------------------------------------------------------------------------------\n",
      "3240 fits failed with the following error:\n",
      "Traceback (most recent call last):\n",
      "  File \"D:\\anaconda\\Lib\\site-packages\\sklearn\\model_selection\\_validation.py\", line 895, in _fit_and_score\n",
      "    estimator.fit(X_train, y_train, **fit_params)\n",
      "  File \"D:\\anaconda\\Lib\\site-packages\\sklearn\\base.py\", line 1467, in wrapper\n",
      "    estimator._validate_params()\n",
      "  File \"D:\\anaconda\\Lib\\site-packages\\sklearn\\base.py\", line 666, in _validate_params\n",
      "    validate_parameter_constraints(\n",
      "  File \"D:\\anaconda\\Lib\\site-packages\\sklearn\\utils\\_param_validation.py\", line 95, in validate_parameter_constraints\n",
      "    raise InvalidParameterError(\n",
      "sklearn.utils._param_validation.InvalidParameterError: The 'max_features' parameter of DecisionTreeClassifier must be an int in the range [1, inf), a float in the range (0.0, 1.0], a str among {'log2', 'sqrt'} or None. Got 'auto' instead.\n",
      "\n",
      "  warnings.warn(some_fits_failed_message, FitFailedWarning)\n",
      "D:\\anaconda\\Lib\\site-packages\\sklearn\\model_selection\\_search.py:1051: UserWarning: One or more of the test scores are non-finite: [       nan        nan        nan        nan        nan        nan\n",
      "        nan        nan        nan        nan        nan        nan\n",
      "        nan        nan        nan        nan        nan        nan\n",
      " 0.81785714 0.7375     0.80714286 0.7375     0.77678571 0.83214286\n",
      " 0.71071429 0.79107143 0.7125     0.84642857 0.78214286 0.80535714\n",
      " 0.68928571 0.81785714 0.75       0.79464286 0.67857143 0.73392857\n",
      "        nan        nan        nan        nan        nan        nan\n",
      "        nan        nan        nan        nan        nan        nan\n",
      "        nan        nan        nan        nan        nan        nan\n",
      " 0.80357143 0.79107143 0.81964286 0.79464286 0.83392857 0.79107143\n",
      " 0.79107143 0.81071429 0.80535714 0.81964286 0.74642857 0.83392857\n",
      " 0.75       0.84642857 0.76428571 0.77678571 0.81964286 0.80357143\n",
      "        nan        nan        nan        nan        nan        nan\n",
      "        nan        nan        nan        nan        nan        nan\n",
      "        nan        nan        nan        nan        nan        nan\n",
      " 0.7375     0.81964286 0.77678571 0.86071429 0.83214286 0.78214286\n",
      " 0.73392857 0.7625     0.77857143 0.7625     0.74642857 0.79285714\n",
      " 0.7625     0.80535714 0.7625     0.80535714 0.83214286 0.76785714\n",
      "        nan        nan        nan        nan        nan        nan\n",
      "        nan        nan        nan        nan        nan        nan\n",
      "        nan        nan        nan        nan        nan        nan\n",
      " 0.81964286 0.80178571 0.80535714 0.75178571 0.74642857 0.80357143\n",
      " 0.7625     0.73571429 0.71964286 0.79107143 0.72857143 0.83392857\n",
      " 0.81785714 0.79464286 0.77321429 0.83392857 0.81785714 0.83214286\n",
      "        nan        nan        nan        nan        nan        nan\n",
      "        nan        nan        nan        nan        nan        nan\n",
      "        nan        nan        nan        nan        nan        nan\n",
      " 0.72142857 0.74821429 0.79285714 0.74821429 0.81964286 0.7625\n",
      " 0.77678571 0.80714286 0.73392857 0.73571429 0.74821429 0.74821429\n",
      " 0.78928571 0.80357143 0.86071429 0.75357143 0.78928571 0.80357143\n",
      "        nan        nan        nan        nan        nan        nan\n",
      "        nan        nan        nan        nan        nan        nan\n",
      "        nan        nan        nan        nan        nan        nan\n",
      " 0.79464286 0.79464286 0.7625     0.78214286 0.78928571 0.74821429\n",
      " 0.83035714 0.80535714 0.70714286 0.79107143 0.76071429 0.77678571\n",
      " 0.78928571 0.78928571 0.73392857 0.7625     0.80357143 0.82321429\n",
      "        nan        nan        nan        nan        nan        nan\n",
      "        nan        nan        nan        nan        nan        nan\n",
      "        nan        nan        nan        nan        nan        nan\n",
      " 0.76428571 0.72142857 0.73571429 0.73571429 0.81964286 0.83214286\n",
      " 0.84464286 0.77857143 0.81964286 0.85       0.78928571 0.76428571\n",
      " 0.79107143 0.79642857 0.78928571 0.775      0.6375     0.7625\n",
      "        nan        nan        nan        nan        nan        nan\n",
      "        nan        nan        nan        nan        nan        nan\n",
      "        nan        nan        nan        nan        nan        nan\n",
      " 0.69285714 0.80357143 0.6625     0.86071429 0.80357143 0.80714286\n",
      " 0.76071429 0.80535714 0.75       0.83214286 0.77678571 0.74821429\n",
      " 0.73571429 0.72321429 0.81607143 0.82142857 0.77321429 0.7625\n",
      "        nan        nan        nan        nan        nan        nan\n",
      "        nan        nan        nan        nan        nan        nan\n",
      "        nan        nan        nan        nan        nan        nan\n",
      " 0.775      0.68035714 0.81964286 0.76607143 0.74821429 0.80714286\n",
      " 0.7625     0.80357143 0.775      0.76428571 0.70714286 0.83392857\n",
      " 0.79107143 0.79285714 0.76071429 0.79107143 0.83392857 0.83214286\n",
      "        nan        nan        nan        nan        nan        nan\n",
      "        nan        nan        nan        nan        nan        nan\n",
      "        nan        nan        nan        nan        nan        nan\n",
      " 0.73928571 0.75357143 0.83035714 0.7375     0.82142857 0.79107143\n",
      " 0.71071429 0.80357143 0.80535714 0.88928571 0.80535714 0.78035714\n",
      " 0.77678571 0.76071429 0.86071429 0.77857143 0.78928571 0.74821429\n",
      "        nan        nan        nan        nan        nan        nan\n",
      "        nan        nan        nan        nan        nan        nan\n",
      "        nan        nan        nan        nan        nan        nan\n",
      " 0.73392857 0.84821429 0.80178571 0.81964286 0.77857143 0.81964286\n",
      " 0.78928571 0.7625     0.83214286 0.80535714 0.80357143 0.79107143\n",
      " 0.80357143 0.76607143 0.80178571 0.80357143 0.85892857 0.775\n",
      "        nan        nan        nan        nan        nan        nan\n",
      "        nan        nan        nan        nan        nan        nan\n",
      "        nan        nan        nan        nan        nan        nan\n",
      " 0.80357143 0.775      0.73392857 0.75178571 0.83214286 0.8875\n",
      " 0.72142857 0.81964286 0.7625     0.76071429 0.7625     0.80714286\n",
      " 0.62321429 0.84285714 0.75178571 0.75178571 0.71607143 0.77857143\n",
      "        nan        nan        nan        nan        nan        nan\n",
      "        nan        nan        nan        nan        nan        nan\n",
      "        nan        nan        nan        nan        nan        nan\n",
      " 0.75178571 0.81785714 0.77678571 0.80535714 0.80357143 0.76071429\n",
      " 0.81785714 0.81785714 0.78035714 0.80892857 0.80714286 0.77678571\n",
      " 0.775      0.79464286 0.75       0.81964286 0.75178571 0.69285714\n",
      "        nan        nan        nan        nan        nan        nan\n",
      "        nan        nan        nan        nan        nan        nan\n",
      "        nan        nan        nan        nan        nan        nan\n",
      " 0.74642857 0.77678571 0.75       0.76607143 0.80714286 0.70892857\n",
      " 0.74821429 0.77678571 0.7625     0.66964286 0.80357143 0.78928571\n",
      " 0.74642857 0.83392857 0.75178571 0.83392857 0.79107143 0.79285714\n",
      "        nan        nan        nan        nan        nan        nan\n",
      "        nan        nan        nan        nan        nan        nan\n",
      "        nan        nan        nan        nan        nan        nan\n",
      " 0.775      0.78928571 0.66607143 0.81785714 0.76428571 0.83392857\n",
      " 0.78928571 0.79464286 0.76071429 0.77857143 0.81785714 0.81785714\n",
      " 0.7625     0.77857143 0.7875     0.79107143 0.73571429 0.77857143\n",
      "        nan        nan        nan        nan        nan        nan\n",
      "        nan        nan        nan        nan        nan        nan\n",
      "        nan        nan        nan        nan        nan        nan\n",
      " 0.76428571 0.73392857 0.81964286 0.76607143 0.80535714 0.75178571\n",
      " 0.77678571 0.68392857 0.70714286 0.80714286 0.72142857 0.79285714\n",
      " 0.81785714 0.80535714 0.74821429 0.77678571 0.79107143 0.81785714\n",
      "        nan        nan        nan        nan        nan        nan\n",
      "        nan        nan        nan        nan        nan        nan\n",
      "        nan        nan        nan        nan        nan        nan\n",
      " 0.81785714 0.83392857 0.74642857 0.77857143 0.79107143 0.80535714\n",
      " 0.81964286 0.74642857 0.77142857 0.74642857 0.81964286 0.79107143\n",
      " 0.84821429 0.80714286 0.79107143 0.76785714 0.775      0.84464286\n",
      "        nan        nan        nan        nan        nan        nan\n",
      "        nan        nan        nan        nan        nan        nan\n",
      "        nan        nan        nan        nan        nan        nan\n",
      " 0.77857143 0.79464286 0.81964286 0.79107143 0.78928571 0.84642857\n",
      " 0.77857143 0.79107143 0.74642857 0.79285714 0.80714286 0.84642857\n",
      " 0.76785714 0.80535714 0.76607143 0.80357143 0.83214286 0.7625    ]\n",
      "  warnings.warn(\n"
     ]
    }
   ],
   "source": [
    "parameters = {'criterion': ['gini', 'entropy'],\n",
    "              'splitter': ['best', 'random'],\n",
    "              'max_depth': [2 * n for n in range(1, 10)],\n",
    "              'max_features': ['auto', 'sqrt'],\n",
    "              'min_samples_leaf': [1, 2, 4],\n",
    "              'min_samples_split': [2, 5, 10]}\n",
    "\n",
    "tree= DecisionTreeClassifier()\n",
    "tree_cv = GridSearchCV(tree,parameters,cv=10)\n",
    "tree_cv.fit(X_train,Y_train)\n",
    "\n",
    "print(\"Tuned hyperparameter (best parameters):\",tree_cv.best_params_)\n",
    "print(\"Accuracy:\",tree_cv.best_score_)"
   ]
  },
  {
   "cell_type": "code",
   "execution_count": null,
   "id": "c75eae88",
   "metadata": {},
   "outputs": [],
   "source": []
  },
  {
   "cell_type": "markdown",
   "id": "da0c5399",
   "metadata": {},
   "source": [
    "## Task 9: Evaluate Decision Tree on Test Data"
   ]
  },
  {
   "cell_type": "code",
   "execution_count": 32,
   "id": "2b1a89e2",
   "metadata": {},
   "outputs": [
    {
     "name": "stdout",
     "output_type": "stream",
     "text": [
      "Test accuracy: 0.8333333333333334\n"
     ]
    },
    {
     "data": {
      "image/png": "[encoded data removed]",
      "text/plain": [
       "<Figure size 640x480 with 2 Axes>"
      ]
     },
     "metadata": {},
     "output_type": "display_data"
    }
   ],
   "source": [
    "yhat=tree_cv.predict(X_test)\n",
    "print(\"Test accuracy:\",tree_cv.score(X_test,Y_test))\n",
    "plot_confusion_matrix(Y_test,yhat)"
   ]
  },
  {
   "cell_type": "markdown",
   "id": "da719c03",
   "metadata": {},
   "source": [
    "## Task 10: K-Nearest Neighbors with GridSearchCV"
   ]
  },
  {
   "cell_type": "code",
   "execution_count": 34,
   "id": "feea5de3",
   "metadata": {},
   "outputs": [
    {
     "name": "stdout",
     "output_type": "stream",
     "text": [
      "Tuned hyperparamter (best parameters): {'algorithm': 'auto', 'n_neighbors': 10, 'p': 1}\n",
      "Accuracy 0.8482142857142858\n"
     ]
    }
   ],
   "source": [
    "parameters = {'n_neighbors': [1, 2, 3, 4, 5, 6, 7, 8, 9, 10],\n",
    "              'algorithm': ['auto', 'ball_tree', 'kd_tree', 'brute'],\n",
    "              'p': [1, 2]}\n",
    "knn = KNeighborsClassifier()\n",
    "knn_cv = GridSearchCV(knn, parameters, cv=10)\n",
    "knn_cv.fit(X_train, Y_train)\n",
    "\n",
    "print(\"Tuned hyperparamter (best parameters):\",knn_cv.best_params_)\n",
    "print('Accuracy',knn_cv.best_score_)"
   ]
  },
  {
   "cell_type": "markdown",
   "id": "ddfa16c6",
   "metadata": {},
   "source": [
    "## Task 11: Evaluate KNN on Test Data"
   ]
  },
  {
   "cell_type": "code",
   "execution_count": 36,
   "id": "3f711e3a",
   "metadata": {},
   "outputs": [
    {
     "name": "stdout",
     "output_type": "stream",
     "text": [
      "Test accuracy:  0.8333333333333334\n"
     ]
    },
    {
     "data": {
      "image/png": "[encoded data removed]",
      "text/plain": [
       "<Figure size 640x480 with 2 Axes>"
      ]
     },
     "metadata": {},
     "output_type": "display_data"
    }
   ],
   "source": [
    "yhat = knn_cv.predict(X_test)\n",
    "print(\"Test accuracy: \", knn_cv.score(X_test, Y_test))\n",
    "plot_confusion_matrix(Y_test, yhat)\n"
   ]
  },
  {
   "cell_type": "markdown",
   "id": "a47e6580",
   "metadata": {},
   "source": [
    "## Task 12: Determine the Best Performing Method"
   ]
  },
  {
   "cell_type": "code",
   "execution_count": 39,
   "id": "6262aad7",
   "metadata": {},
   "outputs": [
    {
     "name": "stdout",
     "output_type": "stream",
     "text": [
      "Logistic Regression Test Accuracy: 0.8333333333333334\n",
      "SVM Test Accuracy: 0.8333333333333334\n",
      "The best performing method is: Logistic Regression\n"
     ]
    }
   ],
   "source": [
    "logreg_test_accuracy = logreg_cv.score(X_test,Y_test)\n",
    "svm_test_accuracy=svm_cv.score(X_test,Y_test)\n",
    "tree_test_accuracy =tree_cv.score(X_test,Y_test)\n",
    "knn_test_accuracy=knn_cv.score(X_test,Y_test)\n",
    "\n",
    "print(\"Logistic Regression Test Accuracy:\",logreg_test_accuracy)\n",
    "print(\"SVM Test Accuracy:\",knn_test_accuracy)\n",
    "\n",
    "best_model_name=max([\n",
    "    (\"Logistic Regression\", logreg_test_accuracy),\n",
    "    (\"SVM\", svm_test_accuracy),\n",
    "    (\"Decision Tree\", tree_test_accuracy),\n",
    "    (\"KNN\", knn_test_accuracy)\n",
    "], key=lambda x: x[1])[0]\n",
    "\n",
    "print(f\"The best performing method is: {best_model_name}\")\n",
    "    \n",
    "    \n",
    "    \n"
   ]
  },
  {
   "cell_type": "code",
   "execution_count": null,
   "id": "d66f681c",
   "metadata": {},
   "outputs": [],
   "source": []
  },
  {
   "cell_type": "code",
   "execution_count": null,
   "id": "6057254a",
   "metadata": {},
   "outputs": [],
   "source": []
  },
  {
   "cell_type": "code",
   "execution_count": null,
   "id": "8fa8cf2a",
   "metadata": {},
   "outputs": [],
   "source": []
  }
 ],
 "metadata": {
  "kernelspec": {
   "display_name": "Python 3 (ipykernel)",
   "language": "python",
   "name": "python3"
  },
  "language_info": {
   "codemirror_mode": {
    "name": "ipython",
    "version": 3
   },
   "file_extension": ".py",
   "mimetype": "text/x-python",
   "name": "python",
   "nbconvert_exporter": "python",
   "pygments_lexer": "ipython3",
   "version": "3.11.5"
  }
 },
 "nbformat": 4,
 "nbformat_minor": 5
}
