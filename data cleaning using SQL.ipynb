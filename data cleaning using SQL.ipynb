{
 "cells": [
  {
   "cell_type": "code",
   "execution_count": 9,
   "id": "ee626a9a",
   "metadata": {},
   "outputs": [],
   "source": [
    "import sqlite3\n",
    "import pandas as pd"
   ]
  },
  {
   "cell_type": "code",
   "execution_count": 5,
   "id": "4e09cbdf",
   "metadata": {},
   "outputs": [],
   "source": [
    "con = sqlite3.connect(\"my_data.db\")\n",
    "cur = con.cursor()\n"
   ]
  },
  {
   "cell_type": "code",
   "execution_count": 3,
   "id": "f9b5f6ca",
   "metadata": {},
   "outputs": [],
   "source": [
    "%load_ext sql"
   ]
  },
  {
   "cell_type": "code",
   "execution_count": 6,
   "id": "c722b697",
   "metadata": {},
   "outputs": [],
   "source": [
    "%sql sqlite:///my_data.db\n"
   ]
  },
  {
   "cell_type": "code",
   "execution_count": 10,
   "id": "d09e5589",
   "metadata": {},
   "outputs": [],
   "source": [
    "df = pd.read_csv(\"https://cf-courses-data.s3.us.cloud-object-storage.appdomain.cloud/IBM-DS0321EN-SkillsNetwork/labs/module_2/data/Spacex.csv\")\n"
   ]
  },
  {
   "cell_type": "code",
   "execution_count": 12,
   "id": "32f8daf1",
   "metadata": {},
   "outputs": [
    {
     "data": {
      "text/plain": [
       "101"
      ]
     },
     "execution_count": 12,
     "metadata": {},
     "output_type": "execute_result"
    }
   ],
   "source": [
    "df.to_sql('SPACEXTBL',con , if_exists='replace', index=False,method='multi')"
   ]
  },
  {
   "cell_type": "code",
   "execution_count": 13,
   "id": "fc4e85e1",
   "metadata": {},
   "outputs": [
    {
     "data": {
      "text/html": [
       "<div>\n",
       "<style scoped>\n",
       "    .dataframe tbody tr th:only-of-type {\n",
       "        vertical-align: middle;\n",
       "    }\n",
       "\n",
       "    .dataframe tbody tr th {\n",
       "        vertical-align: top;\n",
       "    }\n",
       "\n",
       "    .dataframe thead th {\n",
       "        text-align: right;\n",
       "    }\n",
       "</style>\n",
       "<table border=\"1\" class=\"dataframe\">\n",
       "  <thead>\n",
       "    <tr style=\"text-align: right;\">\n",
       "      <th></th>\n",
       "      <th>Date</th>\n",
       "      <th>Time (UTC)</th>\n",
       "      <th>Booster_Version</th>\n",
       "      <th>Launch_Site</th>\n",
       "      <th>Payload</th>\n",
       "      <th>PAYLOAD_MASS__KG_</th>\n",
       "      <th>Orbit</th>\n",
       "      <th>Customer</th>\n",
       "      <th>Mission_Outcome</th>\n",
       "      <th>Landing_Outcome</th>\n",
       "    </tr>\n",
       "  </thead>\n",
       "  <tbody>\n",
       "    <tr>\n",
       "      <th>0</th>\n",
       "      <td>2010-06-04</td>\n",
       "      <td>18:45:00</td>\n",
       "      <td>F9 v1.0  B0003</td>\n",
       "      <td>CCAFS LC-40</td>\n",
       "      <td>Dragon Spacecraft Qualification Unit</td>\n",
       "      <td>0</td>\n",
       "      <td>LEO</td>\n",
       "      <td>SpaceX</td>\n",
       "      <td>Success</td>\n",
       "      <td>Failure (parachute)</td>\n",
       "    </tr>\n",
       "    <tr>\n",
       "      <th>1</th>\n",
       "      <td>2010-12-08</td>\n",
       "      <td>15:43:00</td>\n",
       "      <td>F9 v1.0  B0004</td>\n",
       "      <td>CCAFS LC-40</td>\n",
       "      <td>Dragon demo flight C1, two CubeSats, barrel of...</td>\n",
       "      <td>0</td>\n",
       "      <td>LEO (ISS)</td>\n",
       "      <td>NASA (COTS) NRO</td>\n",
       "      <td>Success</td>\n",
       "      <td>Failure (parachute)</td>\n",
       "    </tr>\n",
       "    <tr>\n",
       "      <th>2</th>\n",
       "      <td>2012-05-22</td>\n",
       "      <td>7:44:00</td>\n",
       "      <td>F9 v1.0  B0005</td>\n",
       "      <td>CCAFS LC-40</td>\n",
       "      <td>Dragon demo flight C2</td>\n",
       "      <td>525</td>\n",
       "      <td>LEO (ISS)</td>\n",
       "      <td>NASA (COTS)</td>\n",
       "      <td>Success</td>\n",
       "      <td>No attempt</td>\n",
       "    </tr>\n",
       "    <tr>\n",
       "      <th>3</th>\n",
       "      <td>2012-10-08</td>\n",
       "      <td>0:35:00</td>\n",
       "      <td>F9 v1.0  B0006</td>\n",
       "      <td>CCAFS LC-40</td>\n",
       "      <td>SpaceX CRS-1</td>\n",
       "      <td>500</td>\n",
       "      <td>LEO (ISS)</td>\n",
       "      <td>NASA (CRS)</td>\n",
       "      <td>Success</td>\n",
       "      <td>No attempt</td>\n",
       "    </tr>\n",
       "    <tr>\n",
       "      <th>4</th>\n",
       "      <td>2013-03-01</td>\n",
       "      <td>15:10:00</td>\n",
       "      <td>F9 v1.0  B0007</td>\n",
       "      <td>CCAFS LC-40</td>\n",
       "      <td>SpaceX CRS-2</td>\n",
       "      <td>677</td>\n",
       "      <td>LEO (ISS)</td>\n",
       "      <td>NASA (CRS)</td>\n",
       "      <td>Success</td>\n",
       "      <td>No attempt</td>\n",
       "    </tr>\n",
       "  </tbody>\n",
       "</table>\n",
       "</div>"
      ],
      "text/plain": [
       "         Date Time (UTC) Booster_Version  Launch_Site  \\\n",
       "0  2010-06-04   18:45:00  F9 v1.0  B0003  CCAFS LC-40   \n",
       "1  2010-12-08   15:43:00  F9 v1.0  B0004  CCAFS LC-40   \n",
       "2  2012-05-22    7:44:00  F9 v1.0  B0005  CCAFS LC-40   \n",
       "3  2012-10-08    0:35:00  F9 v1.0  B0006  CCAFS LC-40   \n",
       "4  2013-03-01   15:10:00  F9 v1.0  B0007  CCAFS LC-40   \n",
       "\n",
       "                                             Payload  PAYLOAD_MASS__KG_  \\\n",
       "0               Dragon Spacecraft Qualification Unit                  0   \n",
       "1  Dragon demo flight C1, two CubeSats, barrel of...                  0   \n",
       "2                              Dragon demo flight C2                525   \n",
       "3                                       SpaceX CRS-1                500   \n",
       "4                                       SpaceX CRS-2                677   \n",
       "\n",
       "       Orbit         Customer Mission_Outcome      Landing_Outcome  \n",
       "0        LEO           SpaceX         Success  Failure (parachute)  \n",
       "1  LEO (ISS)  NASA (COTS) NRO         Success  Failure (parachute)  \n",
       "2  LEO (ISS)      NASA (COTS)         Success           No attempt  \n",
       "3  LEO (ISS)       NASA (CRS)         Success           No attempt  \n",
       "4  LEO (ISS)       NASA (CRS)         Success           No attempt  "
      ]
     },
     "execution_count": 13,
     "metadata": {},
     "output_type": "execute_result"
    }
   ],
   "source": [
    "df.head()"
   ]
  },
  {
   "cell_type": "code",
   "execution_count": null,
   "id": "eaea0121",
   "metadata": {},
   "outputs": [],
   "source": []
  },
  {
   "cell_type": "code",
   "execution_count": 29,
   "id": "63848a1c",
   "metadata": {},
   "outputs": [
    {
     "name": "stdout",
     "output_type": "stream",
     "text": [
      " * sqlite:///my_data.db\n",
      "(sqlite3.OperationalError) table SPACETABLE already exists\n",
      "[SQL: create table SPACETABLE as select* from SPACEXTBL where Date is not null]\n",
      "(Background on this error at: https://sqlalche.me/e/20/e3q8)\n"
     ]
    }
   ],
   "source": [
    "\n",
    "%sql create table SPACETABLE as select* from SPACEXTBL where Date is not null"
   ]
  },
  {
   "cell_type": "markdown",
   "id": "6260ec78",
   "metadata": {},
   "source": [
    "### Task 1: Display the Names of the Unique Launch Sites "
   ]
  },
  {
   "cell_type": "code",
   "execution_count": 28,
   "id": "0171c6ab",
   "metadata": {},
   "outputs": [
    {
     "name": "stdout",
     "output_type": "stream",
     "text": [
      " * sqlite:///my_data.db\n",
      "Done.\n"
     ]
    },
    {
     "data": {
      "text/html": [
       "<table>\n",
       "    <thead>\n",
       "        <tr>\n",
       "            <th>Launch_Site</th>\n",
       "        </tr>\n",
       "    </thead>\n",
       "    <tbody>\n",
       "        <tr>\n",
       "            <td>CCAFS LC-40</td>\n",
       "        </tr>\n",
       "        <tr>\n",
       "            <td>VAFB SLC-4E</td>\n",
       "        </tr>\n",
       "        <tr>\n",
       "            <td>KSC LC-39A</td>\n",
       "        </tr>\n",
       "        <tr>\n",
       "            <td>CCAFS SLC-40</td>\n",
       "        </tr>\n",
       "    </tbody>\n",
       "</table>"
      ],
      "text/plain": [
       "[('CCAFS LC-40',), ('VAFB SLC-4E',), ('KSC LC-39A',), ('CCAFS SLC-40',)]"
      ]
     },
     "execution_count": 28,
     "metadata": {},
     "output_type": "execute_result"
    }
   ],
   "source": [
    "%%sql\n",
    "SELECT DISTINCT \"Launch_Site\"\n",
    "FROM SPACETABLE"
   ]
  },
  {
   "cell_type": "code",
   "execution_count": null,
   "id": "dbe7bc9c",
   "metadata": {},
   "outputs": [],
   "source": []
  },
  {
   "cell_type": "markdown",
   "id": "9e309068",
   "metadata": {},
   "source": [
    "### Task 2: Display 5 Records Where Launch Sites Begin with the String 'CCA'"
   ]
  },
  {
   "cell_type": "code",
   "execution_count": 27,
   "id": "fd3f791c",
   "metadata": {},
   "outputs": [
    {
     "name": "stdout",
     "output_type": "stream",
     "text": [
      " * sqlite:///my_data.db\n",
      "Done.\n"
     ]
    },
    {
     "data": {
      "text/html": [
       "<table>\n",
       "    <thead>\n",
       "        <tr>\n",
       "            <th>Date</th>\n",
       "            <th>Time (UTC)</th>\n",
       "            <th>Booster_Version</th>\n",
       "            <th>Launch_Site</th>\n",
       "            <th>Payload</th>\n",
       "            <th>PAYLOAD_MASS__KG_</th>\n",
       "            <th>Orbit</th>\n",
       "            <th>Customer</th>\n",
       "            <th>Mission_Outcome</th>\n",
       "            <th>Landing_Outcome</th>\n",
       "        </tr>\n",
       "    </thead>\n",
       "    <tbody>\n",
       "        <tr>\n",
       "            <td>2010-06-04</td>\n",
       "            <td>18:45:00</td>\n",
       "            <td>F9 v1.0  B0003</td>\n",
       "            <td>CCAFS LC-40</td>\n",
       "            <td>Dragon Spacecraft Qualification Unit</td>\n",
       "            <td>0</td>\n",
       "            <td>LEO</td>\n",
       "            <td>SpaceX</td>\n",
       "            <td>Success</td>\n",
       "            <td>Failure (parachute)</td>\n",
       "        </tr>\n",
       "        <tr>\n",
       "            <td>2010-12-08</td>\n",
       "            <td>15:43:00</td>\n",
       "            <td>F9 v1.0  B0004</td>\n",
       "            <td>CCAFS LC-40</td>\n",
       "            <td>Dragon demo flight C1, two CubeSats, barrel of Brouere cheese</td>\n",
       "            <td>0</td>\n",
       "            <td>LEO (ISS)</td>\n",
       "            <td>NASA (COTS) NRO</td>\n",
       "            <td>Success</td>\n",
       "            <td>Failure (parachute)</td>\n",
       "        </tr>\n",
       "        <tr>\n",
       "            <td>2012-05-22</td>\n",
       "            <td>7:44:00</td>\n",
       "            <td>F9 v1.0  B0005</td>\n",
       "            <td>CCAFS LC-40</td>\n",
       "            <td>Dragon demo flight C2</td>\n",
       "            <td>525</td>\n",
       "            <td>LEO (ISS)</td>\n",
       "            <td>NASA (COTS)</td>\n",
       "            <td>Success</td>\n",
       "            <td>No attempt</td>\n",
       "        </tr>\n",
       "        <tr>\n",
       "            <td>2012-10-08</td>\n",
       "            <td>0:35:00</td>\n",
       "            <td>F9 v1.0  B0006</td>\n",
       "            <td>CCAFS LC-40</td>\n",
       "            <td>SpaceX CRS-1</td>\n",
       "            <td>500</td>\n",
       "            <td>LEO (ISS)</td>\n",
       "            <td>NASA (CRS)</td>\n",
       "            <td>Success</td>\n",
       "            <td>No attempt</td>\n",
       "        </tr>\n",
       "        <tr>\n",
       "            <td>2013-03-01</td>\n",
       "            <td>15:10:00</td>\n",
       "            <td>F9 v1.0  B0007</td>\n",
       "            <td>CCAFS LC-40</td>\n",
       "            <td>SpaceX CRS-2</td>\n",
       "            <td>677</td>\n",
       "            <td>LEO (ISS)</td>\n",
       "            <td>NASA (CRS)</td>\n",
       "            <td>Success</td>\n",
       "            <td>No attempt</td>\n",
       "        </tr>\n",
       "    </tbody>\n",
       "</table>"
      ],
      "text/plain": [
       "[('2010-06-04', '18:45:00', 'F9 v1.0  B0003', 'CCAFS LC-40', 'Dragon Spacecraft Qualification Unit', 0, 'LEO', 'SpaceX', 'Success', 'Failure (parachute)'),\n",
       " ('2010-12-08', '15:43:00', 'F9 v1.0  B0004', 'CCAFS LC-40', 'Dragon demo flight C1, two CubeSats, barrel of Brouere cheese', 0, 'LEO (ISS)', 'NASA (COTS) NRO', 'Success', 'Failure (parachute)'),\n",
       " ('2012-05-22', '7:44:00', 'F9 v1.0  B0005', 'CCAFS LC-40', 'Dragon demo flight C2', 525, 'LEO (ISS)', 'NASA (COTS)', 'Success', 'No attempt'),\n",
       " ('2012-10-08', '0:35:00', 'F9 v1.0  B0006', 'CCAFS LC-40', 'SpaceX CRS-1', 500, 'LEO (ISS)', 'NASA (CRS)', 'Success', 'No attempt'),\n",
       " ('2013-03-01', '15:10:00', 'F9 v1.0  B0007', 'CCAFS LC-40', 'SpaceX CRS-2', 677, 'LEO (ISS)', 'NASA (CRS)', 'Success', 'No attempt')]"
      ]
     },
     "execution_count": 27,
     "metadata": {},
     "output_type": "execute_result"
    }
   ],
   "source": [
    "%%sql\n",
    "SELECT *\n",
    "FROM SPACETABLE\n",
    "WHERE \"Launch_Site\" LIKE 'CCA%'\n",
    "LIMIT 5\n"
   ]
  },
  {
   "cell_type": "markdown",
   "id": "14fdb979",
   "metadata": {},
   "source": [
    "## Task 3: Display the Total Payload Mass Carried by Boosters Launched by NASA (CRS)\n",
    "\n",
    " \n",
    "\n",
    "\n"
   ]
  },
  {
   "cell_type": "code",
   "execution_count": 31,
   "id": "bc533a86",
   "metadata": {},
   "outputs": [
    {
     "name": "stdout",
     "output_type": "stream",
     "text": [
      " * sqlite:///my_data.db\n",
      "Done.\n"
     ]
    },
    {
     "data": {
      "text/html": [
       "<table>\n",
       "    <thead>\n",
       "        <tr>\n",
       "            <th>TotalPayloadMass</th>\n",
       "        </tr>\n",
       "    </thead>\n",
       "    <tbody>\n",
       "        <tr>\n",
       "            <td>None</td>\n",
       "        </tr>\n",
       "    </tbody>\n",
       "</table>"
      ],
      "text/plain": [
       "[(None,)]"
      ]
     },
     "execution_count": 31,
     "metadata": {},
     "output_type": "execute_result"
    }
   ],
   "source": [
    "%%sql\n",
    "SELECT SUM('PayloadMass') AS TotalPayloadMass\n",
    "FROM SPACETABLE\n",
    "WHERE \"Customer\"=\"NASA(CRS)\""
   ]
  },
  {
   "cell_type": "markdown",
   "id": "58872f9d",
   "metadata": {},
   "source": [
    "### Task 4: Display Average Payload Mass Carried by Booster Version F9 v1.1 "
   ]
  },
  {
   "cell_type": "code",
   "execution_count": null,
   "id": "05ccd28b",
   "metadata": {},
   "outputs": [],
   "source": []
  },
  {
   "cell_type": "code",
   "execution_count": 34,
   "id": "a0b1785a",
   "metadata": {},
   "outputs": [
    {
     "name": "stdout",
     "output_type": "stream",
     "text": [
      " * sqlite:///my_data.db\n",
      "Done.\n"
     ]
    },
    {
     "data": {
      "text/html": [
       "<table>\n",
       "    <thead>\n",
       "        <tr>\n",
       "            <th>AveragePayloadMass</th>\n",
       "        </tr>\n",
       "    </thead>\n",
       "    <tbody>\n",
       "        <tr>\n",
       "            <td>None</td>\n",
       "        </tr>\n",
       "    </tbody>\n",
       "</table>"
      ],
      "text/plain": [
       "[(None,)]"
      ]
     },
     "execution_count": 34,
     "metadata": {},
     "output_type": "execute_result"
    }
   ],
   "source": [
    "%%sql\n",
    "SELECT AVG(\"PayloadMass\") AS AveragePayloadMass\n",
    "FROM SPACETABLE\n",
    "WHERE \"BoosterVersion\" = 'F9 v1.1'\n"
   ]
  },
  {
   "cell_type": "code",
   "execution_count": null,
   "id": "b653dd58",
   "metadata": {},
   "outputs": [],
   "source": []
  },
  {
   "cell_type": "markdown",
   "id": "429ce1c5",
   "metadata": {},
   "source": [
    "## Task 5: List the Date When the First Successful Landing Outcome in Ground Pad was Achieved "
   ]
  },
  {
   "cell_type": "code",
   "execution_count": null,
   "id": "8e60a7b4",
   "metadata": {},
   "outputs": [],
   "source": []
  },
  {
   "cell_type": "code",
   "execution_count": 38,
   "id": "d5ad4640",
   "metadata": {},
   "outputs": [
    {
     "name": "stdout",
     "output_type": "stream",
     "text": [
      " * sqlite:///my_data.db\n",
      "Done.\n"
     ]
    },
    {
     "data": {
      "text/html": [
       "<table>\n",
       "    <thead>\n",
       "        <tr>\n",
       "            <th>FirstSuccessfulLandingDATE</th>\n",
       "        </tr>\n",
       "    </thead>\n",
       "    <tbody>\n",
       "        <tr>\n",
       "            <td>None</td>\n",
       "        </tr>\n",
       "    </tbody>\n",
       "</table>"
      ],
      "text/plain": [
       "[(None,)]"
      ]
     },
     "execution_count": 38,
     "metadata": {},
     "output_type": "execute_result"
    }
   ],
   "source": [
    "%%sql\n",
    "SELECT MIN('Date') AS FirstSuccessfulLandingDATE\n",
    "FROM SPACETABLE\n",
    "WHERE 'LandingOutcome' LIKE 'success(Ground Pad)'"
   ]
  },
  {
   "cell_type": "code",
   "execution_count": null,
   "id": "ffcd20d4",
   "metadata": {},
   "outputs": [],
   "source": []
  },
  {
   "cell_type": "markdown",
   "id": "e3f187aa",
   "metadata": {},
   "source": [
    "### Task 6: List the Names of the Boosters Which Have Success in Drone Ship and Have Payload Mass Greater Than 4000 but Less Than 6000 "
   ]
  },
  {
   "cell_type": "code",
   "execution_count": null,
   "id": "fe096468",
   "metadata": {},
   "outputs": [],
   "source": []
  },
  {
   "cell_type": "code",
   "execution_count": 42,
   "id": "b1849b4c",
   "metadata": {},
   "outputs": [
    {
     "name": "stdout",
     "output_type": "stream",
     "text": [
      " * sqlite:///my_data.db\n",
      "Done.\n"
     ]
    },
    {
     "data": {
      "text/html": [
       "<table>\n",
       "    <thead>\n",
       "        <tr>\n",
       "            <th>&quot;BoosterVersion&quot;</th>\n",
       "        </tr>\n",
       "    </thead>\n",
       "    <tbody>\n",
       "    </tbody>\n",
       "</table>"
      ],
      "text/plain": [
       "[]"
      ]
     },
     "execution_count": 42,
     "metadata": {},
     "output_type": "execute_result"
    }
   ],
   "source": [
    "%%sql\n",
    "SELECT \"BoosterVersion\"\n",
    "FROM SPACETABLE\n",
    "WHERE \"LandingOutcome\" LIKE 'Success (Drone Ship)%'\n",
    "AND \"PayloadMass\" BETWEEN 4000 AND 6000\n"
   ]
  },
  {
   "cell_type": "markdown",
   "id": "450b5864",
   "metadata": {},
   "source": [
    "### Task 7: List the Total Number of Successful and Failure Mission Outcomes "
   ]
  },
  {
   "cell_type": "code",
   "execution_count": 44,
   "id": "e7962f3e",
   "metadata": {},
   "outputs": [
    {
     "name": "stdout",
     "output_type": "stream",
     "text": [
      " * sqlite:///my_data.db\n",
      "Done.\n"
     ]
    },
    {
     "data": {
      "text/html": [
       "<table>\n",
       "    <thead>\n",
       "        <tr>\n",
       "            <th>&quot;MissionOutcome&quot;</th>\n",
       "            <th>TotalCount</th>\n",
       "        </tr>\n",
       "    </thead>\n",
       "    <tbody>\n",
       "        <tr>\n",
       "            <td>MissionOutcome</td>\n",
       "            <td>101</td>\n",
       "        </tr>\n",
       "    </tbody>\n",
       "</table>"
      ],
      "text/plain": [
       "[('MissionOutcome', 101)]"
      ]
     },
     "execution_count": 44,
     "metadata": {},
     "output_type": "execute_result"
    }
   ],
   "source": [
    "%%sql\n",
    "SELECT \"MissionOutcome\", COUNT(*) AS TotalCount\n",
    "FROM SPACETABLE\n",
    "GROUP BY \"MissionOutcome\"\n"
   ]
  },
  {
   "cell_type": "markdown",
   "id": "51458534",
   "metadata": {},
   "source": [
    "### Task 8: List the Names of the Booster Versions Which Have Carried the Maximum Payload Mass "
   ]
  },
  {
   "cell_type": "code",
   "execution_count": 45,
   "id": "4ed85409",
   "metadata": {},
   "outputs": [
    {
     "name": "stdout",
     "output_type": "stream",
     "text": [
      " * sqlite:///my_data.db\n",
      "Done.\n"
     ]
    },
    {
     "data": {
      "text/html": [
       "<table>\n",
       "    <thead>\n",
       "        <tr>\n",
       "            <th>&#x27;BoosterVersion&#x27;</th>\n",
       "        </tr>\n",
       "    </thead>\n",
       "    <tbody>\n",
       "        <tr>\n",
       "            <td>BoosterVersion</td>\n",
       "        </tr>\n",
       "        <tr>\n",
       "            <td>BoosterVersion</td>\n",
       "        </tr>\n",
       "        <tr>\n",
       "            <td>BoosterVersion</td>\n",
       "        </tr>\n",
       "        <tr>\n",
       "            <td>BoosterVersion</td>\n",
       "        </tr>\n",
       "        <tr>\n",
       "            <td>BoosterVersion</td>\n",
       "        </tr>\n",
       "        <tr>\n",
       "            <td>BoosterVersion</td>\n",
       "        </tr>\n",
       "        <tr>\n",
       "            <td>BoosterVersion</td>\n",
       "        </tr>\n",
       "        <tr>\n",
       "            <td>BoosterVersion</td>\n",
       "        </tr>\n",
       "        <tr>\n",
       "            <td>BoosterVersion</td>\n",
       "        </tr>\n",
       "        <tr>\n",
       "            <td>BoosterVersion</td>\n",
       "        </tr>\n",
       "        <tr>\n",
       "            <td>BoosterVersion</td>\n",
       "        </tr>\n",
       "        <tr>\n",
       "            <td>BoosterVersion</td>\n",
       "        </tr>\n",
       "        <tr>\n",
       "            <td>BoosterVersion</td>\n",
       "        </tr>\n",
       "        <tr>\n",
       "            <td>BoosterVersion</td>\n",
       "        </tr>\n",
       "        <tr>\n",
       "            <td>BoosterVersion</td>\n",
       "        </tr>\n",
       "        <tr>\n",
       "            <td>BoosterVersion</td>\n",
       "        </tr>\n",
       "        <tr>\n",
       "            <td>BoosterVersion</td>\n",
       "        </tr>\n",
       "        <tr>\n",
       "            <td>BoosterVersion</td>\n",
       "        </tr>\n",
       "        <tr>\n",
       "            <td>BoosterVersion</td>\n",
       "        </tr>\n",
       "        <tr>\n",
       "            <td>BoosterVersion</td>\n",
       "        </tr>\n",
       "        <tr>\n",
       "            <td>BoosterVersion</td>\n",
       "        </tr>\n",
       "        <tr>\n",
       "            <td>BoosterVersion</td>\n",
       "        </tr>\n",
       "        <tr>\n",
       "            <td>BoosterVersion</td>\n",
       "        </tr>\n",
       "        <tr>\n",
       "            <td>BoosterVersion</td>\n",
       "        </tr>\n",
       "        <tr>\n",
       "            <td>BoosterVersion</td>\n",
       "        </tr>\n",
       "        <tr>\n",
       "            <td>BoosterVersion</td>\n",
       "        </tr>\n",
       "        <tr>\n",
       "            <td>BoosterVersion</td>\n",
       "        </tr>\n",
       "        <tr>\n",
       "            <td>BoosterVersion</td>\n",
       "        </tr>\n",
       "        <tr>\n",
       "            <td>BoosterVersion</td>\n",
       "        </tr>\n",
       "        <tr>\n",
       "            <td>BoosterVersion</td>\n",
       "        </tr>\n",
       "        <tr>\n",
       "            <td>BoosterVersion</td>\n",
       "        </tr>\n",
       "        <tr>\n",
       "            <td>BoosterVersion</td>\n",
       "        </tr>\n",
       "        <tr>\n",
       "            <td>BoosterVersion</td>\n",
       "        </tr>\n",
       "        <tr>\n",
       "            <td>BoosterVersion</td>\n",
       "        </tr>\n",
       "        <tr>\n",
       "            <td>BoosterVersion</td>\n",
       "        </tr>\n",
       "        <tr>\n",
       "            <td>BoosterVersion</td>\n",
       "        </tr>\n",
       "        <tr>\n",
       "            <td>BoosterVersion</td>\n",
       "        </tr>\n",
       "        <tr>\n",
       "            <td>BoosterVersion</td>\n",
       "        </tr>\n",
       "        <tr>\n",
       "            <td>BoosterVersion</td>\n",
       "        </tr>\n",
       "        <tr>\n",
       "            <td>BoosterVersion</td>\n",
       "        </tr>\n",
       "        <tr>\n",
       "            <td>BoosterVersion</td>\n",
       "        </tr>\n",
       "        <tr>\n",
       "            <td>BoosterVersion</td>\n",
       "        </tr>\n",
       "        <tr>\n",
       "            <td>BoosterVersion</td>\n",
       "        </tr>\n",
       "        <tr>\n",
       "            <td>BoosterVersion</td>\n",
       "        </tr>\n",
       "        <tr>\n",
       "            <td>BoosterVersion</td>\n",
       "        </tr>\n",
       "        <tr>\n",
       "            <td>BoosterVersion</td>\n",
       "        </tr>\n",
       "        <tr>\n",
       "            <td>BoosterVersion</td>\n",
       "        </tr>\n",
       "        <tr>\n",
       "            <td>BoosterVersion</td>\n",
       "        </tr>\n",
       "        <tr>\n",
       "            <td>BoosterVersion</td>\n",
       "        </tr>\n",
       "        <tr>\n",
       "            <td>BoosterVersion</td>\n",
       "        </tr>\n",
       "        <tr>\n",
       "            <td>BoosterVersion</td>\n",
       "        </tr>\n",
       "        <tr>\n",
       "            <td>BoosterVersion</td>\n",
       "        </tr>\n",
       "        <tr>\n",
       "            <td>BoosterVersion</td>\n",
       "        </tr>\n",
       "        <tr>\n",
       "            <td>BoosterVersion</td>\n",
       "        </tr>\n",
       "        <tr>\n",
       "            <td>BoosterVersion</td>\n",
       "        </tr>\n",
       "        <tr>\n",
       "            <td>BoosterVersion</td>\n",
       "        </tr>\n",
       "        <tr>\n",
       "            <td>BoosterVersion</td>\n",
       "        </tr>\n",
       "        <tr>\n",
       "            <td>BoosterVersion</td>\n",
       "        </tr>\n",
       "        <tr>\n",
       "            <td>BoosterVersion</td>\n",
       "        </tr>\n",
       "        <tr>\n",
       "            <td>BoosterVersion</td>\n",
       "        </tr>\n",
       "        <tr>\n",
       "            <td>BoosterVersion</td>\n",
       "        </tr>\n",
       "        <tr>\n",
       "            <td>BoosterVersion</td>\n",
       "        </tr>\n",
       "        <tr>\n",
       "            <td>BoosterVersion</td>\n",
       "        </tr>\n",
       "        <tr>\n",
       "            <td>BoosterVersion</td>\n",
       "        </tr>\n",
       "        <tr>\n",
       "            <td>BoosterVersion</td>\n",
       "        </tr>\n",
       "        <tr>\n",
       "            <td>BoosterVersion</td>\n",
       "        </tr>\n",
       "        <tr>\n",
       "            <td>BoosterVersion</td>\n",
       "        </tr>\n",
       "        <tr>\n",
       "            <td>BoosterVersion</td>\n",
       "        </tr>\n",
       "        <tr>\n",
       "            <td>BoosterVersion</td>\n",
       "        </tr>\n",
       "        <tr>\n",
       "            <td>BoosterVersion</td>\n",
       "        </tr>\n",
       "        <tr>\n",
       "            <td>BoosterVersion</td>\n",
       "        </tr>\n",
       "        <tr>\n",
       "            <td>BoosterVersion</td>\n",
       "        </tr>\n",
       "        <tr>\n",
       "            <td>BoosterVersion</td>\n",
       "        </tr>\n",
       "        <tr>\n",
       "            <td>BoosterVersion</td>\n",
       "        </tr>\n",
       "        <tr>\n",
       "            <td>BoosterVersion</td>\n",
       "        </tr>\n",
       "        <tr>\n",
       "            <td>BoosterVersion</td>\n",
       "        </tr>\n",
       "        <tr>\n",
       "            <td>BoosterVersion</td>\n",
       "        </tr>\n",
       "        <tr>\n",
       "            <td>BoosterVersion</td>\n",
       "        </tr>\n",
       "        <tr>\n",
       "            <td>BoosterVersion</td>\n",
       "        </tr>\n",
       "        <tr>\n",
       "            <td>BoosterVersion</td>\n",
       "        </tr>\n",
       "        <tr>\n",
       "            <td>BoosterVersion</td>\n",
       "        </tr>\n",
       "        <tr>\n",
       "            <td>BoosterVersion</td>\n",
       "        </tr>\n",
       "        <tr>\n",
       "            <td>BoosterVersion</td>\n",
       "        </tr>\n",
       "        <tr>\n",
       "            <td>BoosterVersion</td>\n",
       "        </tr>\n",
       "        <tr>\n",
       "            <td>BoosterVersion</td>\n",
       "        </tr>\n",
       "        <tr>\n",
       "            <td>BoosterVersion</td>\n",
       "        </tr>\n",
       "        <tr>\n",
       "            <td>BoosterVersion</td>\n",
       "        </tr>\n",
       "        <tr>\n",
       "            <td>BoosterVersion</td>\n",
       "        </tr>\n",
       "        <tr>\n",
       "            <td>BoosterVersion</td>\n",
       "        </tr>\n",
       "        <tr>\n",
       "            <td>BoosterVersion</td>\n",
       "        </tr>\n",
       "        <tr>\n",
       "            <td>BoosterVersion</td>\n",
       "        </tr>\n",
       "        <tr>\n",
       "            <td>BoosterVersion</td>\n",
       "        </tr>\n",
       "        <tr>\n",
       "            <td>BoosterVersion</td>\n",
       "        </tr>\n",
       "        <tr>\n",
       "            <td>BoosterVersion</td>\n",
       "        </tr>\n",
       "        <tr>\n",
       "            <td>BoosterVersion</td>\n",
       "        </tr>\n",
       "        <tr>\n",
       "            <td>BoosterVersion</td>\n",
       "        </tr>\n",
       "        <tr>\n",
       "            <td>BoosterVersion</td>\n",
       "        </tr>\n",
       "        <tr>\n",
       "            <td>BoosterVersion</td>\n",
       "        </tr>\n",
       "        <tr>\n",
       "            <td>BoosterVersion</td>\n",
       "        </tr>\n",
       "        <tr>\n",
       "            <td>BoosterVersion</td>\n",
       "        </tr>\n",
       "        <tr>\n",
       "            <td>BoosterVersion</td>\n",
       "        </tr>\n",
       "    </tbody>\n",
       "</table>"
      ],
      "text/plain": [
       "[('BoosterVersion',),\n",
       " ('BoosterVersion',),\n",
       " ('BoosterVersion',),\n",
       " ('BoosterVersion',),\n",
       " ('BoosterVersion',),\n",
       " ('BoosterVersion',),\n",
       " ('BoosterVersion',),\n",
       " ('BoosterVersion',),\n",
       " ('BoosterVersion',),\n",
       " ('BoosterVersion',),\n",
       " ('BoosterVersion',),\n",
       " ('BoosterVersion',),\n",
       " ('BoosterVersion',),\n",
       " ('BoosterVersion',),\n",
       " ('BoosterVersion',),\n",
       " ('BoosterVersion',),\n",
       " ('BoosterVersion',),\n",
       " ('BoosterVersion',),\n",
       " ('BoosterVersion',),\n",
       " ('BoosterVersion',),\n",
       " ('BoosterVersion',),\n",
       " ('BoosterVersion',),\n",
       " ('BoosterVersion',),\n",
       " ('BoosterVersion',),\n",
       " ('BoosterVersion',),\n",
       " ('BoosterVersion',),\n",
       " ('BoosterVersion',),\n",
       " ('BoosterVersion',),\n",
       " ('BoosterVersion',),\n",
       " ('BoosterVersion',),\n",
       " ('BoosterVersion',),\n",
       " ('BoosterVersion',),\n",
       " ('BoosterVersion',),\n",
       " ('BoosterVersion',),\n",
       " ('BoosterVersion',),\n",
       " ('BoosterVersion',),\n",
       " ('BoosterVersion',),\n",
       " ('BoosterVersion',),\n",
       " ('BoosterVersion',),\n",
       " ('BoosterVersion',),\n",
       " ('BoosterVersion',),\n",
       " ('BoosterVersion',),\n",
       " ('BoosterVersion',),\n",
       " ('BoosterVersion',),\n",
       " ('BoosterVersion',),\n",
       " ('BoosterVersion',),\n",
       " ('BoosterVersion',),\n",
       " ('BoosterVersion',),\n",
       " ('BoosterVersion',),\n",
       " ('BoosterVersion',),\n",
       " ('BoosterVersion',),\n",
       " ('BoosterVersion',),\n",
       " ('BoosterVersion',),\n",
       " ('BoosterVersion',),\n",
       " ('BoosterVersion',),\n",
       " ('BoosterVersion',),\n",
       " ('BoosterVersion',),\n",
       " ('BoosterVersion',),\n",
       " ('BoosterVersion',),\n",
       " ('BoosterVersion',),\n",
       " ('BoosterVersion',),\n",
       " ('BoosterVersion',),\n",
       " ('BoosterVersion',),\n",
       " ('BoosterVersion',),\n",
       " ('BoosterVersion',),\n",
       " ('BoosterVersion',),\n",
       " ('BoosterVersion',),\n",
       " ('BoosterVersion',),\n",
       " ('BoosterVersion',),\n",
       " ('BoosterVersion',),\n",
       " ('BoosterVersion',),\n",
       " ('BoosterVersion',),\n",
       " ('BoosterVersion',),\n",
       " ('BoosterVersion',),\n",
       " ('BoosterVersion',),\n",
       " ('BoosterVersion',),\n",
       " ('BoosterVersion',),\n",
       " ('BoosterVersion',),\n",
       " ('BoosterVersion',),\n",
       " ('BoosterVersion',),\n",
       " ('BoosterVersion',),\n",
       " ('BoosterVersion',),\n",
       " ('BoosterVersion',),\n",
       " ('BoosterVersion',),\n",
       " ('BoosterVersion',),\n",
       " ('BoosterVersion',),\n",
       " ('BoosterVersion',),\n",
       " ('BoosterVersion',),\n",
       " ('BoosterVersion',),\n",
       " ('BoosterVersion',),\n",
       " ('BoosterVersion',),\n",
       " ('BoosterVersion',),\n",
       " ('BoosterVersion',),\n",
       " ('BoosterVersion',),\n",
       " ('BoosterVersion',),\n",
       " ('BoosterVersion',),\n",
       " ('BoosterVersion',),\n",
       " ('BoosterVersion',),\n",
       " ('BoosterVersion',),\n",
       " ('BoosterVersion',),\n",
       " ('BoosterVersion',)]"
      ]
     },
     "execution_count": 45,
     "metadata": {},
     "output_type": "execute_result"
    }
   ],
   "source": [
    "%%sql\n",
    "SELECT 'BoosterVersion'\n",
    "FROM SPACETABLE\n",
    "WHERE 'PayloadMass'= (SELECT MAX('PayloadMass')FROM SPACETABLE)"
   ]
  },
  {
   "cell_type": "code",
   "execution_count": null,
   "id": "dc6ea503",
   "metadata": {},
   "outputs": [],
   "source": []
  },
  {
   "cell_type": "markdown",
   "id": "9f417a23",
   "metadata": {},
   "source": [
    "### Task 9: List the Records Which Will Display the Month Names, Failure Landing Outcomes in Drone Ship, Booster Versions, and Launch Sites for the Months in Year 2015 "
   ]
  },
  {
   "cell_type": "code",
   "execution_count": null,
   "id": "6e8612b1",
   "metadata": {},
   "outputs": [],
   "source": []
  },
  {
   "cell_type": "code",
   "execution_count": 65,
   "id": "acf29ed1",
   "metadata": {
    "scrolled": true
   },
   "outputs": [
    {
     "name": "stdout",
     "output_type": "stream",
     "text": [
      " * sqlite:///my_data.db\n",
      "Done.\n"
     ]
    },
    {
     "data": {
      "text/html": [
       "<table>\n",
       "    <thead>\n",
       "        <tr>\n",
       "            <th>Month</th>\n",
       "            <th>&quot;LandingOutcome&quot;</th>\n",
       "            <th>&quot;BoosterVersion&quot;</th>\n",
       "            <th>&quot;LaunchSite&quot;</th>\n",
       "        </tr>\n",
       "    </thead>\n",
       "    <tbody>\n",
       "    </tbody>\n",
       "</table>"
      ],
      "text/plain": [
       "[]"
      ]
     },
     "execution_count": 65,
     "metadata": {},
     "output_type": "execute_result"
    }
   ],
   "source": [
    "%%sql\n",
    "SELECT strftime('%Y-%m', \"Date\") AS Month,\n",
    "       \"LandingOutcome\",\n",
    "       \"BoosterVersion\",\n",
    "       \"LaunchSite\"\n",
    "FROM SPACETABLE\n",
    "WHERE strftime('%Y', \"Date\") = '2015'\n",
    "AND \"LandingOutcome\" LIKE 'Failure (Drone Ship)%'\n"
   ]
  },
  {
   "cell_type": "code",
   "execution_count": null,
   "id": "8d138780",
   "metadata": {},
   "outputs": [],
   "source": [
    "\n"
   ]
  },
  {
   "cell_type": "code",
   "execution_count": null,
   "id": "0b7bdf41",
   "metadata": {},
   "outputs": [],
   "source": []
  },
  {
   "cell_type": "markdown",
   "id": "1977941b",
   "metadata": {},
   "source": [
    "### Task 10: Rank the Count of Landing Outcomes Between the Dates 2010-06-04 and 2017-03-20 in Descending Order "
   ]
  },
  {
   "cell_type": "code",
   "execution_count": 66,
   "id": "6816dc4d",
   "metadata": {},
   "outputs": [
    {
     "name": "stdout",
     "output_type": "stream",
     "text": [
      " * sqlite:///my_data.db\n",
      "Done.\n"
     ]
    },
    {
     "data": {
      "text/html": [
       "<table>\n",
       "    <thead>\n",
       "        <tr>\n",
       "            <th>&#x27;LandingOutcome&#x27;</th>\n",
       "            <th>OutcomeCount</th>\n",
       "        </tr>\n",
       "    </thead>\n",
       "    <tbody>\n",
       "    </tbody>\n",
       "</table>"
      ],
      "text/plain": [
       "[]"
      ]
     },
     "execution_count": 66,
     "metadata": {},
     "output_type": "execute_result"
    }
   ],
   "source": [
    "%%sql\n",
    "SELECT 'LandingOutcome',COUNT(*) AS OutcomeCount\n",
    "FROM SPACETABLE \n",
    "WHERE 'Date' BETWEEN '2010-06-04' AND '2017-03-20'\n",
    "GROUP BY \"LandingOutcome\"\n",
    "ORDER BY OutcomeCount DESC"
   ]
  },
  {
   "cell_type": "code",
   "execution_count": null,
   "id": "ae7a39b1",
   "metadata": {},
   "outputs": [],
   "source": [
    "\n"
   ]
  },
  {
   "cell_type": "code",
   "execution_count": null,
   "id": "fe43b5f7",
   "metadata": {},
   "outputs": [],
   "source": [
    "\n"
   ]
  },
  {
   "cell_type": "code",
   "execution_count": null,
   "id": "042710dd",
   "metadata": {},
   "outputs": [],
   "source": [
    "\n"
   ]
  },
  {
   "cell_type": "code",
   "execution_count": null,
   "id": "eb8d156b",
   "metadata": {},
   "outputs": [],
   "source": [
    "\n"
   ]
  },
  {
   "cell_type": "code",
   "execution_count": null,
   "id": "aa750166",
   "metadata": {},
   "outputs": [],
   "source": [
    "\n"
   ]
  },
  {
   "cell_type": "code",
   "execution_count": null,
   "id": "0e36ff66",
   "metadata": {},
   "outputs": [],
   "source": [
    "\n"
   ]
  },
  {
   "cell_type": "code",
   "execution_count": null,
   "id": "ffeb2dc0",
   "metadata": {},
   "outputs": [],
   "source": [
    "\n"
   ]
  },
  {
   "cell_type": "code",
   "execution_count": null,
   "id": "f9e4d984",
   "metadata": {},
   "outputs": [],
   "source": [
    "\n"
   ]
  },
  {
   "cell_type": "code",
   "execution_count": null,
   "id": "f0c7a935",
   "metadata": {},
   "outputs": [],
   "source": [
    "\n"
   ]
  },
  {
   "cell_type": "code",
   "execution_count": null,
   "id": "99b079ad",
   "metadata": {},
   "outputs": [],
   "source": [
    "\n"
   ]
  },
  {
   "cell_type": "code",
   "execution_count": null,
   "id": "a3258e30",
   "metadata": {},
   "outputs": [],
   "source": [
    "\n"
   ]
  },
  {
   "cell_type": "code",
   "execution_count": null,
   "id": "684ab3b4",
   "metadata": {},
   "outputs": [],
   "source": [
    "\n"
   ]
  },
  {
   "cell_type": "code",
   "execution_count": null,
   "id": "edc3b14e",
   "metadata": {},
   "outputs": [],
   "source": [
    "\n"
   ]
  },
  {
   "cell_type": "code",
   "execution_count": null,
   "id": "bec92947",
   "metadata": {},
   "outputs": [],
   "source": [
    "\n"
   ]
  },
  {
   "cell_type": "code",
   "execution_count": null,
   "id": "07bd47eb",
   "metadata": {},
   "outputs": [],
   "source": [
    "\n"
   ]
  },
  {
   "cell_type": "code",
   "execution_count": null,
   "id": "3ff6ea16",
   "metadata": {},
   "outputs": [],
   "source": [
    "\n"
   ]
  },
  {
   "cell_type": "code",
   "execution_count": null,
   "id": "876029a0",
   "metadata": {},
   "outputs": [],
   "source": [
    "\n"
   ]
  },
  {
   "cell_type": "code",
   "execution_count": null,
   "id": "335d10b5",
   "metadata": {},
   "outputs": [],
   "source": [
    "\n"
   ]
  }
 ],
 "metadata": {
  "kernelspec": {
   "display_name": "Python 3 (ipykernel)",
   "language": "python",
   "name": "python3"
  },
  "language_info": {
   "codemirror_mode": {
    "name": "ipython",
    "version": 3
   },
   "file_extension": ".py",
   "mimetype": "text/x-python",
   "name": "python",
   "nbconvert_exporter": "python",
   "pygments_lexer": "ipython3",
   "version": "3.11.5"
  }
 },
 "nbformat": 4,
 "nbformat_minor": 5
}
